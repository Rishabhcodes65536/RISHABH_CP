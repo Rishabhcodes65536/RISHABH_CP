{
 "cells": [
  {
   "cell_type": "code",
   "execution_count": 3,
   "metadata": {},
   "outputs": [
    {
     "name": "stdout",
     "output_type": "stream",
     "text": [
      "[ 1.00000067  2.00000002 -1.00000021  0.99999996]\n"
     ]
    }
   ],
   "source": [
    "import numpy as np\n",
    "\n",
    "def gauss_seidel(A, b, x0, epsilon, max_iterations):\n",
    "    n = len(A)\n",
    "    x = x0.copy()\n",
    "\n",
    "    for i in range(max_iterations):\n",
    "        x_new = np.zeros(n)\n",
    "        for j in range(n):\n",
    "            s1 = np.dot(A[j, :j], x_new[:j])\n",
    "            s2 = np.dot(A[j, j + 1:], x[j + 1:])\n",
    "            x_new[j] = (b[j] - s1 - s2) / A[j, j]\n",
    "        if np.allclose(x, x_new, rtol=epsilon):\n",
    "            return x_new\n",
    "        x = x_new\n",
    "    return x\n",
    "\n",
    "A = np.array([[10, -1, 2, 0],\n",
    "              [-1, 11, -1, 3],\n",
    "              [2, -1, 10, -1],\n",
    "              [0, 3, -1, 8]])\n",
    "b = np.array([6, 25, -11, 15])\n",
    "x0 = np.zeros(4)\n",
    "eps = 1e-5\n",
    "max_iter = 100\n",
    "\n",
    "x = gauss_seidel(A, b, x0, eps, max_iter)\n",
    "print(x)\n",
    "\n",
    "#OUTPUT - [ 1.00000067  2.00000002 -1.00000021  0.99999996]"
   ]
  }
 ],
 "metadata": {
  "kernelspec": {
   "display_name": "Python 3",
   "language": "python",
   "name": "python3"
  },
  "language_info": {
   "codemirror_mode": {
    "name": "ipython",
    "version": 3
   },
   "file_extension": ".py",
   "mimetype": "text/x-python",
   "name": "python",
   "nbconvert_exporter": "python",
   "pygments_lexer": "ipython3",
   "version": "3.11.3"
  },
  "orig_nbformat": 4
 },
 "nbformat": 4,
 "nbformat_minor": 2
}
